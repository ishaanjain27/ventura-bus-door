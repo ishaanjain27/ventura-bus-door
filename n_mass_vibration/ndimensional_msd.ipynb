{
 "cells": [
  {
   "cell_type": "markdown",
   "metadata": {},
   "source": [
    "In this notebook we will make an n-dimensional mass spring damper solver by hand (i.e. without using premade julia functions)"
   ]
  },
  {
   "cell_type": "code",
   "execution_count": 2,
   "metadata": {},
   "outputs": [],
   "source": [
    "#Imports needed for this project\n",
    "using Plots\n",
    "using SparseArrays\n"
   ]
  },
  {
   "cell_type": "code",
   "execution_count": 3,
   "metadata": {},
   "outputs": [
    {
     "data": {
      "text/plain": [
       "0.01"
      ]
     },
     "metadata": {},
     "output_type": "display_data"
    }
   ],
   "source": [
    "#Parameters \n",
    "n_masses = 5\n",
    "k_lst = 5*ones(1,n_masses+1)\n",
    "c_lst = 0.2*ones(1,n_masses+1)  \n",
    "f_lst = zeros(1,n_masses) #N\n",
    "mass_vec = 0.1* ones(n_masses) #kg\n",
    "\n",
    "tStart = 0\n",
    "tEnd = 20\n",
    "dt = 0.01\n"
   ]
  },
  {
   "cell_type": "code",
   "execution_count": 4,
   "metadata": {},
   "outputs": [
    {
     "data": {
      "text/plain": [
       "5-element Vector{Float64}:\n",
       " 0.0\n",
       " 0.0\n",
       " 0.0\n",
       " 0.0\n",
       " 0.0"
      ]
     },
     "metadata": {},
     "output_type": "display_data"
    }
   ],
   "source": [
    "#IC's\n",
    "u0_vec = 4*ones(n_masses)\n",
    "v0_vec = zeros(n_masses) "
   ]
  },
  {
   "cell_type": "code",
   "execution_count": 5,
   "metadata": {},
   "outputs": [
    {
     "data": {
      "text/plain": [
       "10×10 Matrix{Float64}:\n",
       "   0.0    0.0    0.0    0.0    0.0   1.0   0.0   0.0   0.0   0.0\n",
       "   0.0    0.0    0.0    0.0    0.0   0.0   1.0   0.0   0.0   0.0\n",
       "   0.0    0.0    0.0    0.0    0.0   0.0   0.0   1.0   0.0   0.0\n",
       "   0.0    0.0    0.0    0.0    0.0   0.0   0.0   0.0   1.0   0.0\n",
       "   0.0    0.0    0.0    0.0    0.0   0.0   0.0   0.0   0.0   1.0\n",
       " -10.0    5.0    0.0    0.0    0.0  -0.4   0.2   0.0   0.0   0.0\n",
       "   5.0  -10.0    5.0    0.0    0.0   0.2  -0.4   0.2   0.0   0.0\n",
       "   0.0    5.0  -10.0    5.0    0.0   0.0   0.2  -0.4   0.2   0.0\n",
       "   0.0    0.0    5.0  -10.0    5.0   0.0   0.0   0.2  -0.4   0.2\n",
       "   0.0    0.0    0.0    5.0  -10.0   0.0   0.0   0.0   0.2  -0.4"
      ]
     },
     "metadata": {},
     "output_type": "display_data"
    },
    {
     "data": {
      "text/plain": [
       "10×10 Matrix{Float64}:\n",
       " 1.0  0.0  0.0  0.0  0.0  0.0  0.0  0.0  0.0  0.0\n",
       " 0.0  1.0  0.0  0.0  0.0  0.0  0.0  0.0  0.0  0.0\n",
       " 0.0  0.0  1.0  0.0  0.0  0.0  0.0  0.0  0.0  0.0\n",
       " 0.0  0.0  0.0  1.0  0.0  0.0  0.0  0.0  0.0  0.0\n",
       " 0.0  0.0  0.0  0.0  1.0  0.0  0.0  0.0  0.0  0.0\n",
       " 0.0  0.0  0.0  0.0  0.0  0.1  0.0  0.0  0.0  0.0\n",
       " 0.0  0.0  0.0  0.0  0.0  0.0  0.1  0.0  0.0  0.0\n",
       " 0.0  0.0  0.0  0.0  0.0  0.0  0.0  0.1  0.0  0.0\n",
       " 0.0  0.0  0.0  0.0  0.0  0.0  0.0  0.0  0.1  0.0\n",
       " 0.0  0.0  0.0  0.0  0.0  0.0  0.0  0.0  0.0  0.1"
      ]
     },
     "metadata": {},
     "output_type": "display_data"
    }
   ],
   "source": [
    "#Creating System Matrix A\n",
    "function ConstructSystemMatrixA(n_masses,k_lst,c_lst,f_lst)\n",
    "    \n",
    "    # Making Diagnals for Sparse Matrix\n",
    "    # Main diag K\n",
    "    k_main_diag = zeros(n_masses)\n",
    "    for i in 1:n_masses\n",
    "        k_main_diag[i] = -k_lst[i] - k_lst[i+1] \n",
    "    end\n",
    "    \n",
    "    # Upper diag K\n",
    "    k_upper_diag = zeros(n_masses -1)\n",
    "    for i in 1:n_masses-1\n",
    "        k_upper_diag[i] =  k_lst[i+1]\n",
    "    end\n",
    "    k_upper_diag = vcat(0,k_upper_diag)\n",
    "\n",
    "    # Lower diag K\n",
    "    k_lower_diag = zeros(n_masses -1)\n",
    "    for i in 1:n_masses-1\n",
    "        k_lower_diag[i] =  k_lst[i]\n",
    "    end\n",
    "\n",
    "    # Main diag C\n",
    "    c_main_diag = zeros(n_masses)\n",
    "    for i in 1:n_masses\n",
    "        c_main_diag[i] = -c_lst[i] - c_lst[i+1] \n",
    "    end\n",
    "    \n",
    "    # Upper diag C\n",
    "    c_upper_diag = zeros(n_masses -1)\n",
    "    for i in 1:n_masses-1\n",
    "        c_upper_diag[i] =  c_lst[i+1]\n",
    "    end\n",
    "\n",
    "    # Lower diag C\n",
    "    c_lower_diag = zeros(n_masses -1)\n",
    "    for i in 1:n_masses-1\n",
    "        c_lower_diag[i] =  c_lst[i]\n",
    "    end\n",
    "\n",
    "    # 1's diagonal\n",
    "    ones_diag = ones(n_masses)\n",
    "\n",
    "    # Real main diagonal\n",
    "    final_main_diag = vcat(zeros(n_masses),c_main_diag)\n",
    "    final_upper_diag = vcat(zeros(n_masses),c_upper_diag)\n",
    "    final_lower_diag = vcat(zeros(n_masses),c_lower_diag)\n",
    "\n",
    "\n",
    "    # Building the Sparse (n_masses x n_masses) Matrix from diags\n",
    "    A = spdiagm(\n",
    "        0 => final_main_diag,\n",
    "        1 => final_upper_diag,\n",
    "        -1 => final_lower_diag,\n",
    "        n_masses => ones_diag,\n",
    "        -n_masses => k_main_diag,\n",
    "        -n_masses+1 => k_upper_diag,\n",
    "        -n_masses-1 => k_lower_diag\n",
    "    )\n",
    "\n",
    "    # TODO: Benchmark for n = 10,100,1000\n",
    "\n",
    "    M = spdiagm(\n",
    "        0 => vcat(ones(n_masses),mass_vec)\n",
    "    )\n",
    "\n",
    "    return A, M \n",
    "end\n",
    "\n",
    "A,M = ConstructSystemMatrixA(n_masses,k_lst,c_lst,f_lst)\n",
    "display(Matrix(A))\n",
    "display(Matrix(M))"
   ]
  },
  {
   "cell_type": "code",
   "execution_count": 6,
   "metadata": {},
   "outputs": [
    {
     "data": {
      "text/plain": [
       "(0.0:0.01:20.0, [4.0 4.0 … -0.0308567824989897 -0.02960109124972288; 4.0 4.0 … -0.05344551504628494 -0.05127059400394872; … ; 0.0 0.0 … 0.21749210423362217 0.22348690885769001; 0.0 -2.0 … 0.12556912492668162 0.12903022699013406])"
      ]
     },
     "metadata": {},
     "output_type": "display_data"
    }
   ],
   "source": [
    "# Define the Forward Euler function\n",
    "function forward_euler(tStart, tEnd, dt, A, u0_vec, v0_vec,M)\n",
    "    num_steps = Int((tEnd - tStart) / dt) + 1\n",
    "    displacement_matrix = zeros(2 * length(u0_vec), num_steps)  # Store both displacement and velocity\n",
    "    t_vector = tStart:dt:tEnd  # Time vector\n",
    "\n",
    "    w = vcat(u0_vec, v0_vec)  # Initial state\n",
    "    displacement_matrix[:, 1] .= w  # Store initial state\n",
    "\n",
    "\n",
    "    for i in 2:num_steps\n",
    "        \n",
    "        b = A*w\n",
    "        \n",
    "        wprime = M \\ b  # Compute the derivative based on system matrix A\n",
    "        w_2 = w + dt * wprime  # Update state using Forward Euler\n",
    "        displacement_matrix[:, i] .= w_2  # Store new state\n",
    "        w = w_2  # Update w for the next iteration\n",
    "    end\n",
    "\n",
    "    return t_vector, displacement_matrix\n",
    "end\n",
    "\n",
    "# Call the Forward Euler function\n",
    "t_vector, displacement_matrix = forward_euler(tStart, tEnd, dt, A, u0_vec, v0_vec,M)\n"
   ]
  },
  {
   "cell_type": "code",
   "execution_count": 7,
   "metadata": {},
   "outputs": [
    {
     "data": {
      "text/plain": [
       "plot! (generic function with 4 methods)"
      ]
     },
     "metadata": {},
     "output_type": "display_data"
    }
   ],
   "source": [
    "# Plot the results\n",
    "# Assuming displacement_matrix is organized as: [displacement1; velocity1; displacement2; velocity2; ...]\n",
    "mass_indices = 1:n_masses  # Mass number indices\n",
    "surface(t_vector, mass_indices, displacement_matrix[1:n_masses,:], xlabel=\"Time (s)\", ylabel=\"Mass Number\", zlabel=\"Displacement (m)\",\n",
    "        title=\"Displacement of Masses Over Time\", color=:viridis, legend=false)\n",
    "\n",
    "# Show the plot\n",
    "display(plot!)\n"
   ]
  },
  {
   "cell_type": "code",
   "execution_count": null,
   "metadata": {},
   "outputs": [],
   "source": [
    "# Animation\n",
    "anim = @animate for i in 1:size(displacement_matrix[1:n_masses,:], 2)\n",
    "    plot(1:n_masses, displacement_matrix[1:n_masses, i], \n",
    "         xlabel=\"Mass Number\", \n",
    "         ylabel=\"Displacement (m)\", \n",
    "         title=\"Displacement of Each Mass Over Time\\n t = $(round(t_vector[i], digits=2))\", \n",
    "         ylim=(-5, 5),  # Adjust according to your displacement range\n",
    "         label=\"\", \n",
    "         legend=false)\n",
    "end\n",
    "\n",
    "# Save the animation\n",
    "gif(anim, \"mass_displacement_animation.gif\", fps=500)"
   ]
  }
 ],
 "metadata": {
  "kernelspec": {
   "display_name": "Julia 1.10.5",
   "language": "julia",
   "name": "julia-1.10"
  },
  "language_info": {
   "file_extension": ".jl",
   "mimetype": "application/julia",
   "name": "julia",
   "version": "1.10.5"
  }
 },
 "nbformat": 4,
 "nbformat_minor": 2
}
